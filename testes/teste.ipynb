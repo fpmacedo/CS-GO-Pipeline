{
 "metadata": {
  "language_info": {
   "codemirror_mode": {
    "name": "ipython",
    "version": 3
   },
   "file_extension": ".py",
   "mimetype": "text/x-python",
   "name": "python",
   "nbconvert_exporter": "python",
   "pygments_lexer": "ipython3",
   "version": "3.9.5"
  },
  "orig_nbformat": 2,
  "kernelspec": {
   "name": "python395jvsc74a57bd0d5a7d124d0dca5cc52a88d57c06fb69d896a234f46fe1ef0073c53f940a59161",
   "display_name": "Python 3.9.5 64-bit (windows store)"
  },
  "metadata": {
   "interpreter": {
    "hash": "d5a7d124d0dca5cc52a88d57c06fb69d896a234f46fe1ef0073c53f940a59161"
   }
  }
 },
 "nbformat": 4,
 "nbformat_minor": 2,
 "cells": [
  {
   "cell_type": "code",
   "execution_count": 1,
   "metadata": {},
   "outputs": [],
   "source": [
    "import pandas as pd"
   ]
  },
  {
   "cell_type": "code",
   "execution_count": 12,
   "metadata": {},
   "outputs": [
    {
     "output_type": "execute_result",
     "data": {
      "text/plain": [
       "   match_id                                         match_link team  \\\n",
       "0     13111  /stats/matches/mapstatsid/13111/nip-vs-hastala...  NIP   \n",
       "1     13111  /stats/matches/mapstatsid/13111/nip-vs-hastala...  NIP   \n",
       "2     13111  /stats/matches/mapstatsid/13111/nip-vs-hastala...  NIP   \n",
       "3     13111  /stats/matches/mapstatsid/13111/nip-vs-hastala...  NIP   \n",
       "4     13111  /stats/matches/mapstatsid/13111/nip-vs-hastala...  NIP   \n",
       "\n",
       "  player_nick  kills  hs  assists  flash_assists  deaths kdratio adr  fkdiff  \\\n",
       "0      f0rest     23   0        0              0       7       -   -       4   \n",
       "1        Xizt     20   0        0              0       9       -   -       1   \n",
       "2   Fifflaren     14   0        0              0       4       -   -       1   \n",
       "3     friberg     16   0        0              0      11       -   -       3   \n",
       "4   GeT_RiGhT     12   0        0              0       8       -   -       0   \n",
       "\n",
       "   rating  \n",
       "0    1.92  \n",
       "1    1.55  \n",
       "2    1.53  \n",
       "3    1.32  \n",
       "4    1.09  "
      ],
      "text/html": "<div>\n<style scoped>\n    .dataframe tbody tr th:only-of-type {\n        vertical-align: middle;\n    }\n\n    .dataframe tbody tr th {\n        vertical-align: top;\n    }\n\n    .dataframe thead th {\n        text-align: right;\n    }\n</style>\n<table border=\"1\" class=\"dataframe\">\n  <thead>\n    <tr style=\"text-align: right;\">\n      <th></th>\n      <th>match_id</th>\n      <th>match_link</th>\n      <th>team</th>\n      <th>player_nick</th>\n      <th>kills</th>\n      <th>hs</th>\n      <th>assists</th>\n      <th>flash_assists</th>\n      <th>deaths</th>\n      <th>kdratio</th>\n      <th>adr</th>\n      <th>fkdiff</th>\n      <th>rating</th>\n    </tr>\n  </thead>\n  <tbody>\n    <tr>\n      <th>0</th>\n      <td>13111</td>\n      <td>/stats/matches/mapstatsid/13111/nip-vs-hastala...</td>\n      <td>NIP</td>\n      <td>f0rest</td>\n      <td>23</td>\n      <td>0</td>\n      <td>0</td>\n      <td>0</td>\n      <td>7</td>\n      <td>-</td>\n      <td>-</td>\n      <td>4</td>\n      <td>1.92</td>\n    </tr>\n    <tr>\n      <th>1</th>\n      <td>13111</td>\n      <td>/stats/matches/mapstatsid/13111/nip-vs-hastala...</td>\n      <td>NIP</td>\n      <td>Xizt</td>\n      <td>20</td>\n      <td>0</td>\n      <td>0</td>\n      <td>0</td>\n      <td>9</td>\n      <td>-</td>\n      <td>-</td>\n      <td>1</td>\n      <td>1.55</td>\n    </tr>\n    <tr>\n      <th>2</th>\n      <td>13111</td>\n      <td>/stats/matches/mapstatsid/13111/nip-vs-hastala...</td>\n      <td>NIP</td>\n      <td>Fifflaren</td>\n      <td>14</td>\n      <td>0</td>\n      <td>0</td>\n      <td>0</td>\n      <td>4</td>\n      <td>-</td>\n      <td>-</td>\n      <td>1</td>\n      <td>1.53</td>\n    </tr>\n    <tr>\n      <th>3</th>\n      <td>13111</td>\n      <td>/stats/matches/mapstatsid/13111/nip-vs-hastala...</td>\n      <td>NIP</td>\n      <td>friberg</td>\n      <td>16</td>\n      <td>0</td>\n      <td>0</td>\n      <td>0</td>\n      <td>11</td>\n      <td>-</td>\n      <td>-</td>\n      <td>3</td>\n      <td>1.32</td>\n    </tr>\n    <tr>\n      <th>4</th>\n      <td>13111</td>\n      <td>/stats/matches/mapstatsid/13111/nip-vs-hastala...</td>\n      <td>NIP</td>\n      <td>GeT_RiGhT</td>\n      <td>12</td>\n      <td>0</td>\n      <td>0</td>\n      <td>0</td>\n      <td>8</td>\n      <td>-</td>\n      <td>-</td>\n      <td>0</td>\n      <td>1.09</td>\n    </tr>\n  </tbody>\n</table>\n</div>"
     },
     "metadata": {},
     "execution_count": 12
    }
   ],
   "source": [
    "patients_df = pd.read_json('match_players.json')\n",
    "patients_df.head()"
   ]
  },
  {
   "cell_type": "code",
   "execution_count": null,
   "metadata": {},
   "outputs": [],
   "source": []
  }
 ]
}